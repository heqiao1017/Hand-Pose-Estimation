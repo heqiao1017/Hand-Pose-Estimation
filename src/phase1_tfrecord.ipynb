{
 "cells": [
  {
   "cell_type": "code",
   "execution_count": 1,
   "metadata": {},
   "outputs": [
    {
     "data": {
      "text/plain": [
       "'\\nThis file reads project/hand_pose/train_labels.csv and project/hand_pose/test_labels.csv and output to project/src/phase1_models/research/object_detection/data/train.record and project/src/phase1_models/research/object_detection/data/test.record\\n'"
      ]
     },
     "execution_count": 1,
     "metadata": {},
     "output_type": "execute_result"
    }
   ],
   "source": [
    "'''\n",
    "This file reads project/hand_pose/train_labels.csv and project/hand_pose/test_labels.csv and output to project/src/phase1_models/research/object_detection/data/train.record and project/src/phase1_models/research/object_detection/data/test.record\n",
    "'''"
   ]
  },
  {
   "cell_type": "code",
   "execution_count": 2,
   "metadata": {},
   "outputs": [
    {
     "name": "stderr",
     "output_type": "stream",
     "text": [
      "/anaconda3/lib/python3.6/site-packages/h5py/__init__.py:36: FutureWarning: Conversion of the second argument of issubdtype from `float` to `np.floating` is deprecated. In future, it will be treated as `np.float64 == np.dtype(float).type`.\n",
      "  from ._conv import register_converters as _register_converters\n"
     ]
    }
   ],
   "source": [
    "import sys\n",
    "import os\n",
    "import shutil\n",
    "tensorflow_path = \"phase1_models\"\n",
    "sys.path.append(tensorflow_path + \"/research\")\n",
    "sys.path.append(tensorflow_path + \"/research/object_detection\")\n",
    "sys.path.append(tensorflow_path + \"/research/object_detection/utils\")\n",
    "from __future__ import division\n",
    "from __future__ import print_function\n",
    "from __future__ import absolute_import\n",
    "\n",
    "import os\n",
    "import io\n",
    "import pandas as pd\n",
    "import tensorflow as tf\n",
    "\n",
    "from PIL import Image\n",
    "from object_detection.utils import dataset_util\n",
    "from collections import namedtuple, OrderedDict\n",
    "\n",
    "import warnings\n",
    "warnings.simplefilter(\"ignore\")"
   ]
  },
  {
   "cell_type": "code",
   "execution_count": 3,
   "metadata": {},
   "outputs": [],
   "source": [
    "base_dir = '../hand_pose'\n",
    "output_dir = \"phase1_models/research/object_detection/data\"\n",
    "csv_train_input= os.path.join(base_dir, 'train_labels.csv')\n",
    "csv_test_input= os.path.join(base_dir, 'test_labels.csv')\n",
    "csv_train_output=os.path.join(output_dir, 'train.record')\n",
    "csv_test_output=os.path.join(output_dir, 'test.record')\n",
    "img_path = os.path.join(base_dir, 'Color')\n",
    "# shutil.move(\"../hand_pose/Gamma_imgs\", \"../hand_pose/Color\")"
   ]
  },
  {
   "cell_type": "code",
   "execution_count": 4,
   "metadata": {},
   "outputs": [],
   "source": [
    "def move(src, dst):\n",
    "    listOfFiles = os.listdir(src)\n",
    "    for f in listOfFiles:\n",
    "        fullPath = src + \"/\" + f\n",
    "        os.system (\"mv\"+ \" \" + fullPath + \" \" + dst)"
   ]
  },
  {
   "cell_type": "code",
   "execution_count": 5,
   "metadata": {},
   "outputs": [],
   "source": [
    "move(\"../hand_pose/Gamma_imgs\", \"../hand_pose/Color\")\n",
    "move(\"../hand_pose/Rotate_270_imgs\", \"../hand_pose/Color\")\n",
    "move(\"../hand_pose/Rotate_90_imgs\", \"../hand_pose/Color\")"
   ]
  },
  {
   "cell_type": "code",
   "execution_count": 6,
   "metadata": {},
   "outputs": [],
   "source": [
    "# Before run following program, please copy all updated images from folders \"Gamma_imgs\" \"Rotate_90_imgs\" \"Rotate_270_imgs\" to target folder \"Color\" to get super dataset"
   ]
  },
  {
   "cell_type": "code",
   "execution_count": 7,
   "metadata": {},
   "outputs": [],
   "source": [
    "# TO-DO replace this with label map\n",
    "def class_text_to_int(row_label):\n",
    "    if row_label == \"hand\":\n",
    "        return 1\n",
    "    else:\n",
    "        None\n",
    "\n",
    "\n",
    "def split(df, group):\n",
    "    data = namedtuple('data', ['filename', 'object'])\n",
    "    gb = df.groupby(group)\n",
    "    return [data(filename, gb.get_group(x)) for filename, x in zip(gb.groups.keys(), gb.groups)]\n",
    "\n",
    "\n",
    "def create_tf_example(group, path):\n",
    "    with tf.gfile.GFile(os.path.join(path, '{}'.format(group.filename)), 'rb') as fid:\n",
    "        encoded_jpg = fid.read()\n",
    "    encoded_jpg_io = io.BytesIO(encoded_jpg)\n",
    "    image = Image.open(encoded_jpg_io)\n",
    "    width, height = image.size\n",
    "\n",
    "    filename = group.filename.encode('utf8')\n",
    "    image_format = b'jpg'\n",
    "    xmins = []\n",
    "    xmaxs = []\n",
    "    ymins = []\n",
    "    ymaxs = []\n",
    "    classes_text = []\n",
    "    classes = []\n",
    "\n",
    "    for index, row in group.object.iterrows():\n",
    "        xmins.append(row['xmin'] / width)\n",
    "        xmaxs.append(row['xmax'] / width)\n",
    "        ymins.append(row['ymin'] / height)\n",
    "        ymaxs.append(row['ymax'] / height)\n",
    "        classes_text.append(row['class'].encode('utf8'))\n",
    "        classes.append(class_text_to_int(row['class']))\n",
    "\n",
    "    tf_example = tf.train.Example(features=tf.train.Features(feature={\n",
    "        'image/height': dataset_util.int64_feature(height),\n",
    "        'image/width': dataset_util.int64_feature(width),\n",
    "        'image/filename': dataset_util.bytes_feature(filename),\n",
    "        'image/source_id': dataset_util.bytes_feature(filename),\n",
    "        'image/encoded': dataset_util.bytes_feature(encoded_jpg),\n",
    "        'image/format': dataset_util.bytes_feature(image_format),\n",
    "        'image/object/bbox/xmin': dataset_util.float_list_feature(xmins),\n",
    "        'image/object/bbox/xmax': dataset_util.float_list_feature(xmaxs),\n",
    "        'image/object/bbox/ymin': dataset_util.float_list_feature(ymins),\n",
    "        'image/object/bbox/ymax': dataset_util.float_list_feature(ymaxs),\n",
    "        'image/object/class/text': dataset_util.bytes_list_feature(classes_text),\n",
    "        'image/object/class/label': dataset_util.int64_list_feature(classes),\n",
    "    }))\n",
    "    return tf_example"
   ]
  },
  {
   "cell_type": "code",
   "execution_count": 8,
   "metadata": {},
   "outputs": [
    {
     "name": "stdout",
     "output_type": "stream",
     "text": [
      "test: phase1_models/research/object_detection/data/train.record ../hand_pose/train_labels.csv <tensorflow.python.lib.io.tf_record.TFRecordWriter object at 0x125ee7cf8>\n",
      "Successfully created the TFRecords: phase1_models/research/object_detection/data/train.record\n"
     ]
    }
   ],
   "source": [
    "writer = tf.python_io.TFRecordWriter(csv_train_output)\n",
    "print(\"test:\", csv_train_output,csv_train_input, writer)\n",
    "examples = pd.read_csv(csv_train_input)\n",
    "grouped = split(examples, 'filename')\n",
    "for group in grouped:\n",
    "    tf_example = create_tf_example(group, img_path)\n",
    "    writer.write(tf_example.SerializeToString())\n",
    "\n",
    "writer.close()\n",
    "print('Successfully created the TFRecords: {}'.format(csv_train_output))"
   ]
  },
  {
   "cell_type": "code",
   "execution_count": 9,
   "metadata": {},
   "outputs": [
    {
     "name": "stdout",
     "output_type": "stream",
     "text": [
      "test: phase1_models/research/object_detection/data/test.record ../hand_pose/test_labels.csv <tensorflow.python.lib.io.tf_record.TFRecordWriter object at 0x125f835f8>\n",
      "Successfully created the TFRecords: phase1_models/research/object_detection/data/test.record\n"
     ]
    }
   ],
   "source": [
    "writer = tf.python_io.TFRecordWriter(csv_test_output)\n",
    "print(\"test:\", csv_test_output,csv_test_input, writer)\n",
    "examples = pd.read_csv(csv_test_input)\n",
    "grouped = split(examples, 'filename')\n",
    "for group in grouped:\n",
    "    tf_example = create_tf_example(group, img_path)\n",
    "    writer.write(tf_example.SerializeToString())\n",
    "\n",
    "writer.close()\n",
    "print('Successfully created the TFRecords: {}'.format(csv_test_output))"
   ]
  },
  {
   "cell_type": "code",
   "execution_count": 10,
   "metadata": {},
   "outputs": [],
   "source": [
    "# os.system(\"mv ../hand_pose/Color/*gamma.jpg ../hand_pose/Color/*r270.jpg ../hand_pose/Color/*r90.jpg\")"
   ]
  },
  {
   "cell_type": "code",
   "execution_count": 11,
   "metadata": {},
   "outputs": [],
   "source": [
    "import os\n",
    "\n",
    "dir_name = \"../hand_pose/Color/\"\n",
    "test = os.listdir(dir_name)\n",
    "\n",
    "for item in test:\n",
    "    if item.endswith(\"gamma.jpg\") or item.endswith(\"r270.jpg\") or item.endswith(\"r90.jpg\"):\n",
    "        os.remove(os.path.join(dir_name, item))"
   ]
  },
  {
   "cell_type": "code",
   "execution_count": null,
   "metadata": {},
   "outputs": [],
   "source": []
  }
 ],
 "metadata": {
  "kernelspec": {
   "display_name": "Python 3",
   "language": "python",
   "name": "python3"
  },
  "language_info": {
   "codemirror_mode": {
    "name": "ipython",
    "version": 3
   },
   "file_extension": ".py",
   "mimetype": "text/x-python",
   "name": "python",
   "nbconvert_exporter": "python",
   "pygments_lexer": "ipython3",
   "version": "3.6.4"
  }
 },
 "nbformat": 4,
 "nbformat_minor": 2
}
