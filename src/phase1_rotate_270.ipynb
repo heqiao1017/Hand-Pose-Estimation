{
 "cells": [
  {
   "cell_type": "code",
   "execution_count": 36,
   "metadata": {},
   "outputs": [
    {
     "data": {
      "text/plain": [
       "'\\nThis file reads json file in project/hand_pose/Annotation.json and output project/hand_pose/hand_labels_r270.csv\\n'"
      ]
     },
     "execution_count": 36,
     "metadata": {},
     "output_type": "execute_result"
    }
   ],
   "source": [
    "'''\n",
    "This file reads json file in project/hand_pose/Annotation.json and output project/hand_pose/hand_labels_r270.csv\n",
    "'''"
   ]
  },
  {
   "cell_type": "code",
   "execution_count": 37,
   "metadata": {},
   "outputs": [],
   "source": [
    "import os\n",
    "import glob\n",
    "import pandas as pd\n",
    "import xml.etree.ElementTree as ET\n",
    "import json\n",
    "from pprint import pprint\n",
    "from matplotlib import pyplot as plt\n",
    "from PIL import Image\n",
    "import sys\n",
    "import numpy as np\n",
    "import matplotlib.patches as patches\n",
    "import cv2\n",
    "import pandas as pd\n",
    "import warnings\n",
    "warnings.simplefilter(\"ignore\")"
   ]
  },
  {
   "cell_type": "markdown",
   "metadata": {},
   "source": [
    "# Get 2500 images for rotate"
   ]
  },
  {
   "cell_type": "code",
   "execution_count": 38,
   "metadata": {},
   "outputs": [],
   "source": [
    "base_dir = \"../hand_pose\"\n",
    "image_dir = os.path.join(base_dir, 'Color')"
   ]
  },
  {
   "cell_type": "code",
   "execution_count": 39,
   "metadata": {},
   "outputs": [],
   "source": [
    "img_list = os.listdir(image_dir)\n",
    "img_name = [img[:-4] for img in img_list]"
   ]
  },
  {
   "cell_type": "code",
   "execution_count": 40,
   "metadata": {},
   "outputs": [
    {
     "data": {
      "text/plain": [
       "'\\ndef rotate(image, theta):\\n    (h, w) = image.shape[:2]\\n    center = (w / 2, h / 2)\\n    M = cv2.getRotationMatrix2D(center, theta, 1)\\n    rotated = cv2.warpAffine(image, M, (int(w),int(h)), cv2.INTER_LINEAR,\\n                             borderMode=cv2.BORDER_CONSTANT, borderValue=(255, 255, 255))\\n    return rotated\\n'"
      ]
     },
     "execution_count": 40,
     "metadata": {},
     "output_type": "execute_result"
    }
   ],
   "source": [
    "'''\n",
    "def rotate(image, theta):\n",
    "    (h, w) = image.shape[:2]\n",
    "    center = (w / 2, h / 2)\n",
    "    M = cv2.getRotationMatrix2D(center, theta, 1)\n",
    "    rotated = cv2.warpAffine(image, M, (int(w),int(h)), cv2.INTER_LINEAR,\n",
    "                             borderMode=cv2.BORDER_CONSTANT, borderValue=(255, 255, 255))\n",
    "    return rotated\n",
    "'''"
   ]
  },
  {
   "cell_type": "code",
   "execution_count": 41,
   "metadata": {},
   "outputs": [
    {
     "name": "stdout",
     "output_type": "stream",
     "text": [
      "1080 1920\n"
     ]
    }
   ],
   "source": [
    "image = cv2.imread(os.path.join(image_dir,img_list[1]))\n",
    "(h, w) = image.shape[:2]\n",
    "print(h, w)"
   ]
  },
  {
   "cell_type": "code",
   "execution_count": 42,
   "metadata": {},
   "outputs": [
    {
     "name": "stdout",
     "output_type": "stream",
     "text": [
      "111\n"
     ]
    }
   ],
   "source": [
    "img_amount = len(img_list)\n",
    "print(img_amount)"
   ]
  },
  {
   "cell_type": "code",
   "execution_count": 43,
   "metadata": {},
   "outputs": [],
   "source": [
    "# Following code use tiny dataset for script test"
   ]
  },
  {
   "cell_type": "code",
   "execution_count": 44,
   "metadata": {},
   "outputs": [],
   "source": [
    "target_dir = os.path.join(base_dir, 'Rotate_270_imgs')\n",
    "for i in range(5, img_amount, 10):\n",
    "    img = cv2.imread(os.path.join(image_dir,img_list[i]))\n",
    "    cv2.imwrite(os.path.join(target_dir, img_name[i] +'_r270.jpg'), np.rot90(img, 3))\n",
    "    #cv2.imwrite(os.path.join(target_dir, img_name[i] +'_r270.jpg'), rotate(img, 270))"
   ]
  },
  {
   "cell_type": "code",
   "execution_count": 45,
   "metadata": {},
   "outputs": [],
   "source": [
    "# Following code use real hand_pose dataset with folder \"Color\" from assignment 1&3"
   ]
  },
  {
   "cell_type": "code",
   "execution_count": 46,
   "metadata": {},
   "outputs": [
    {
     "data": {
      "text/plain": [
       "\"\\ntarget_dir = os.path.join(base_dir, 'Rotate_270_imgs')\\nfor i in range(5, 56000, 22):\\n    img = cv2.imread(os.path.join(image_dir,img_list[i]))\\n    cv2.imwrite(os.path.join(target_dir, img_name[i] +'_r270.jpg'), np.rot90(img, 3))\\n    #cv2.imwrite(os.path.join(target_dir, img_name[i] +'_r270.jpg'), rotate(img, 270))\\n\""
      ]
     },
     "execution_count": 46,
     "metadata": {},
     "output_type": "execute_result"
    }
   ],
   "source": [
    "'''\n",
    "target_dir = os.path.join(base_dir, 'Rotate_270_imgs')\n",
    "for i in range(5, 56000, 22):\n",
    "    img = cv2.imread(os.path.join(image_dir,img_list[i]))\n",
    "    cv2.imwrite(os.path.join(target_dir, img_name[i] +'_r270.jpg'), np.rot90(img, 3))\n",
    "    #cv2.imwrite(os.path.join(target_dir, img_name[i] +'_r270.jpg'), rotate(img, 270))\n",
    "'''"
   ]
  },
  {
   "cell_type": "markdown",
   "metadata": {},
   "source": [
    "# json to jsv for 2500 rotated images"
   ]
  },
  {
   "cell_type": "code",
   "execution_count": 47,
   "metadata": {},
   "outputs": [],
   "source": [
    "tensorflow_path = \"phase1_models\"\n",
    "sys.path.append(tensorflow_path + \"/research\")\n",
    "sys.path.append(tensorflow_path + \"/research/object_detection\")\n",
    "sys.path.append(tensorflow_path + \"/research/object_detection/utils\")\n",
    "from utils import label_map_util\n",
    "from utils import visualization_utils as vis_util"
   ]
  },
  {
   "cell_type": "code",
   "execution_count": 48,
   "metadata": {},
   "outputs": [],
   "source": [
    "base_dir = \"../hand_pose\"\n",
    "json_file = os.path.join(base_dir, 'annotation.json')\n",
    "segment_length = 20\n",
    "csv_file_r270 = os.path.join(base_dir, 'hand_labels_r270.csv')\n",
    "image_dir_r270 = os.path.join(base_dir, 'Rotate_270_imgs')"
   ]
  },
  {
   "cell_type": "code",
   "execution_count": 49,
   "metadata": {},
   "outputs": [],
   "source": [
    "img_list_r270 = os.listdir(image_dir_r270)"
   ]
  },
  {
   "cell_type": "code",
   "execution_count": 50,
   "metadata": {},
   "outputs": [],
   "source": [
    "img_name_r270 = [img[:-9] for img in img_list_r270]"
   ]
  },
  {
   "cell_type": "code",
   "execution_count": 51,
   "metadata": {},
   "outputs": [
    {
     "name": "stdout",
     "output_type": "stream",
     "text": [
      "<_io.TextIOWrapper name='../hand_pose/annotation.json' mode='r' encoding='UTF-8'>\n"
     ]
    }
   ],
   "source": [
    "with open(json_file) as f:\n",
    "    data = json.load(f)\n",
    "pprint(f)"
   ]
  },
  {
   "cell_type": "code",
   "execution_count": 52,
   "metadata": {},
   "outputs": [
    {
     "data": {
      "text/plain": [
       "94126"
      ]
     },
     "execution_count": 52,
     "metadata": {},
     "output_type": "execute_result"
    }
   ],
   "source": [
    "len(data)"
   ]
  },
  {
   "cell_type": "code",
   "execution_count": 53,
   "metadata": {},
   "outputs": [
    {
     "name": "stdout",
     "output_type": "stream",
     "text": [
      "['', '000_2255', '000_2045', '000_221', '000_23', '000_245', '000_2273', '000_2429', '000_2411', '000_299', '000_2027', '000_2183']\n"
     ]
    }
   ],
   "source": [
    "print(img_name_r270)"
   ]
  },
  {
   "cell_type": "code",
   "execution_count": 54,
   "metadata": {},
   "outputs": [
    {
     "data": {
      "text/plain": [
       "12"
      ]
     },
     "execution_count": 54,
     "metadata": {},
     "output_type": "execute_result"
    }
   ],
   "source": [
    "len(img_list_r270)"
   ]
  },
  {
   "cell_type": "code",
   "execution_count": 55,
   "metadata": {},
   "outputs": [],
   "source": [
    "def paint_boundary_r270(index):\n",
    "    img = cv2.imread(os.path.join(image_dir_r270,img_list_r270[index]))\n",
    "    if img_name_r270[index]+\"_L\" in data:\n",
    "        pos = record_boundary_r270(index, \"_L\")\n",
    "        img = cv2.rectangle(img, pos[0], pos[1] , (0, 255, 0), 3) #(row['xmin'], row['ymin']), (row['xmax'], row['ymax'])\n",
    "    if img_name[index]+\"_R\" in data:\n",
    "        pos = record_boundary_r270(index, \"_R\")\n",
    "        img = cv2.rectangle(img, pos[0], pos[1] , (0, 255, 0), 3) #(row['xmin'], row['ymin']), (row['xmax'], row['ymax'])     \n",
    "    return img"
   ]
  },
  {
   "cell_type": "code",
   "execution_count": 56,
   "metadata": {},
   "outputs": [],
   "source": [
    "def record_boundary_r270(index, direction):\n",
    "    name = img_name_r270[index]+direction\n",
    "    xy = np.array(data[name])\n",
    "    x_arr = xy[:,0]\n",
    "    y_arr = xy[:,1]\n",
    "    segment_length = 20\n",
    "    x_max = max(h - y_arr) + segment_length\n",
    "    y_max = max(x_arr) + segment_length\n",
    "    x_min = min(h - y_arr) - segment_length\n",
    "    y_min = min(x_arr) - segment_length\n",
    "    \n",
    "    '''\n",
    "    x_max = max(x_arr) + segment_length\n",
    "    y_max = max(y_arr) + segment_length\n",
    "    x_min = min(x_arr) - segment_length\n",
    "    y_min = min(y_arr) - segment_length\n",
    "    '''\n",
    "    return [(int(x_min), int(y_min)), (int(x_max), int(y_max))]"
   ]
  },
  {
   "cell_type": "code",
   "execution_count": 57,
   "metadata": {},
   "outputs": [],
   "source": [
    "def return_value_r270(index, direction):\n",
    "    pos = record_boundary_r270(index, direction)\n",
    "    xmin = pos[0][0]\n",
    "    ymin = pos[0][1]\n",
    "    xmax = pos[1][0]\n",
    "    ymax = pos[1][1]\n",
    "    value = (img_name_r270[index]+'_r270.jpg', #+direction,\n",
    "             xmax-xmin,\n",
    "             ymax-ymin,\n",
    "             'hand',\n",
    "             xmin,\n",
    "             ymin,\n",
    "             xmax,\n",
    "             ymax\n",
    "             )\n",
    "    return value"
   ]
  },
  {
   "cell_type": "code",
   "execution_count": 58,
   "metadata": {},
   "outputs": [],
   "source": [
    "xml_list_r270 = []\n",
    "#for xml_file in glob.glob(path + '/*.xml'):\n",
    "for index, img in enumerate(img_name_r270):\n",
    "    if img + '_R' in data:\n",
    "        xml_list_r270.append(return_value_r270(index, '_R'))\n",
    "    if img + '_L' in data:\n",
    "        xml_list_r270.append(return_value_r270(index, '_L'))\n",
    "column_name = ['filename', 'width', 'height', 'class', 'xmin', 'ymin', 'xmax', 'ymax']\n",
    "xml_df_r270 = pd.DataFrame(xml_list_r270, columns=column_name) #use panda\n",
    "#print(xml_df)"
   ]
  },
  {
   "cell_type": "code",
   "execution_count": 59,
   "metadata": {},
   "outputs": [
    {
     "data": {
      "text/plain": [
       "15"
      ]
     },
     "execution_count": 59,
     "metadata": {},
     "output_type": "execute_result"
    }
   ],
   "source": [
    "len(xml_list_r270)"
   ]
  },
  {
   "cell_type": "code",
   "execution_count": 60,
   "metadata": {},
   "outputs": [
    {
     "name": "stdout",
     "output_type": "stream",
     "text": [
      "Successfully converted xml to csv.\n"
     ]
    }
   ],
   "source": [
    "xml_df_r270.to_csv(csv_file_r270, index=None)\n",
    "print('Successfully converted xml to csv.')"
   ]
  },
  {
   "cell_type": "markdown",
   "metadata": {},
   "source": [
    "# Append 5600 images csv to hand_labels.csv"
   ]
  },
  {
   "cell_type": "code",
   "execution_count": 61,
   "metadata": {},
   "outputs": [],
   "source": [
    "base_dir = \"../hand_pose\"\n",
    "csv_file_r270 = os.path.join(base_dir, 'hand_labels_r270.csv')\n",
    "csv_file = os.path.join(base_dir, 'hand_labels.csv')"
   ]
  },
  {
   "cell_type": "code",
   "execution_count": 62,
   "metadata": {},
   "outputs": [],
   "source": [
    "labels_r270 = pd.read_csv(csv_file_r270)"
   ]
  },
  {
   "cell_type": "code",
   "execution_count": 63,
   "metadata": {},
   "outputs": [],
   "source": [
    "labels = pd.read_csv(csv_file)"
   ]
  },
  {
   "cell_type": "code",
   "execution_count": 64,
   "metadata": {},
   "outputs": [
    {
     "data": {
      "text/plain": [
       "15"
      ]
     },
     "execution_count": 64,
     "metadata": {},
     "output_type": "execute_result"
    }
   ],
   "source": [
    "len(labels_r270)"
   ]
  },
  {
   "cell_type": "code",
   "execution_count": 65,
   "metadata": {},
   "outputs": [
    {
     "data": {
      "text/plain": [
       "218"
      ]
     },
     "execution_count": 65,
     "metadata": {},
     "output_type": "execute_result"
    }
   ],
   "source": [
    "len(labels)"
   ]
  },
  {
   "cell_type": "code",
   "execution_count": 66,
   "metadata": {},
   "outputs": [],
   "source": [
    "results = pd.concat([labels,labels_r270])\n",
    "results.to_csv(os.path.join(base_dir, 'hand_labels.csv'))"
   ]
  },
  {
   "cell_type": "code",
   "execution_count": 67,
   "metadata": {},
   "outputs": [
    {
     "data": {
      "text/plain": [
       "233"
      ]
     },
     "execution_count": 67,
     "metadata": {},
     "output_type": "execute_result"
    }
   ],
   "source": [
    "len(results)"
   ]
  }
 ],
 "metadata": {
  "kernelspec": {
   "display_name": "Python 3",
   "language": "python",
   "name": "python3"
  },
  "language_info": {
   "codemirror_mode": {
    "name": "ipython",
    "version": 3
   },
   "file_extension": ".py",
   "mimetype": "text/x-python",
   "name": "python",
   "nbconvert_exporter": "python",
   "pygments_lexer": "ipython3",
   "version": "3.6.4"
  }
 },
 "nbformat": 4,
 "nbformat_minor": 2
}
