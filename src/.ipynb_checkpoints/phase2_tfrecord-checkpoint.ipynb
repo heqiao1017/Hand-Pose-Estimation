{
 "cells": [
  {
   "cell_type": "code",
   "execution_count": 1,
   "metadata": {},
   "outputs": [
    {
     "name": "stderr",
     "output_type": "stream",
     "text": [
      "/home/shared/anaconda3/lib/python3.6/site-packages/h5py/__init__.py:36: FutureWarning: Conversion of the second argument of issubdtype from `float` to `np.floating` is deprecated. In future, it will be treated as `np.float64 == np.dtype(float).type`.\n",
      "  from ._conv import register_converters as _register_converters\n"
     ]
    }
   ],
   "source": [
    "import warnings\n",
    "warnings.simplefilter(\"ignore\")\n",
    "import cv2\n",
    "#import utils\n",
    "import numpy as np\n",
    "import math\n",
    "import tensorflow as tf\n",
    "import time\n",
    "import random\n",
    "import os\n",
    "import json\n",
    "from pprint import pprint\n",
    "import Detector as dt\n",
    "from config import FLAGS"
   ]
  },
  {
   "cell_type": "code",
   "execution_count": 2,
   "metadata": {},
   "outputs": [],
   "source": [
    "SHOW_INFO = False\n",
    "gaussian_radius = 2"
   ]
  },
  {
   "cell_type": "code",
   "execution_count": 3,
   "metadata": {},
   "outputs": [],
   "source": []
  },
  {
   "cell_type": "code",
   "execution_count": 4,
   "metadata": {},
   "outputs": [],
   "source": [
    "base_dir = \"../hand_pose\"\n",
    "json_file = os.path.join(base_dir, 'annotation.json')\n",
    "csv_file = os.path.join(base_dir, 'hand_labels.csv')\n",
    "image_dir = os.path.join(base_dir, 'Color')\n",
    "\n",
    "with open(json_file) as f:\n",
    "    content = json.load(f)"
   ]
  },
  {
   "cell_type": "code",
   "execution_count": 5,
   "metadata": {},
   "outputs": [],
   "source": [
    "img_list = os.listdir(image_dir)\n",
    "img_name = [img[:-4] for img in img_list]\n",
    "split_ratio = 0.9"
   ]
  },
  {
   "cell_type": "code",
   "execution_count": 6,
   "metadata": {},
   "outputs": [],
   "source": [
    "train_index = np.random.choice(len(img_list), size=int(len(img_list)*split_ratio), replace=False)\n",
    "test_index = np.setdiff1d(list(range(len(img_list))), train_index)"
   ]
  },
  {
   "cell_type": "code",
   "execution_count": 7,
   "metadata": {},
   "outputs": [
    {
     "name": "stdout",
     "output_type": "stream",
     "text": [
      "(99,) (12,) 111\n",
      "[ 72   7  63  16  87  29 106  94  59  56  18  36  99 104  62   5  69  96\n",
      "  84  98  68  37  39  12  71 109  93  91  61  60  70  50  78  66  14  44\n",
      "  79 107  45  27  92  34  81  41  80  42 101  49  89  35  86  24  65  46\n",
      "  95  19   3  31   4  83 102  74  67  57  76  75   9  28  13  58  10  53\n",
      "   6  43  32  48 103 110 108  15  97 100  77  33  17   1   8  88  26  90\n",
      "  25  40  30  54  55  51  85 105  20] [ 0  2 11 21 22 23 38 47 52 64 73 82]\n"
     ]
    }
   ],
   "source": [
    "print(train_index.shape, test_index.shape, len(img_list))\n",
    "print(train_index, test_index)"
   ]
  },
  {
   "cell_type": "code",
   "execution_count": 8,
   "metadata": {},
   "outputs": [
    {
     "data": {
      "text/plain": [
       "array([ True,  True,  True,  True,  True,  True,  True,  True,  True,\n",
       "        True,  True,  True])"
      ]
     },
     "execution_count": 8,
     "metadata": {},
     "output_type": "execute_result"
    }
   ],
   "source": [
    "np.unique(test_index) == sorted(test_index)"
   ]
  },
  {
   "cell_type": "code",
   "execution_count": 9,
   "metadata": {},
   "outputs": [],
   "source": [
    "#later change this to import from prediction\n",
    "def record_boundary(index, direction,padding, height, width):\n",
    "    name = img_name[index]+direction\n",
    "    xy = np.array(content[name])\n",
    "    x_arr = xy[:,0]\n",
    "    y_arr = xy[:,1]\n",
    "    x_max = max(x_arr) \n",
    "    y_max = max(y_arr) \n",
    "    x_min = min(x_arr)\n",
    "    y_min = min(y_arr)\n",
    "    #print(\"Original was: \", x_min, y_min, x_max, y_max, \" with height \", height, \" and width \", width)\n",
    "    return dt.adjust_bound_box(x_min, y_min, x_max, y_max, padding, height, width)\n",
    "\n",
    "def draw_hand(canvas, joint): \n",
    "    for i in range(len(joint)):\n",
    "        cv2.circle(canvas, (int(joint[i][0]),int(joint[i][1])), 4, FLAGS.joint_color_code[i], thickness=-1)"
   ]
  },
  {
   "cell_type": "code",
   "execution_count": 10,
   "metadata": {},
   "outputs": [
    {
     "name": "stdout",
     "output_type": "stream",
     "text": [
      "All finished 1.246161937713623\n"
     ]
    }
   ],
   "source": [
    "#test record generator\n",
    "tfr_file = 'test.tfrecords'\n",
    "writer = tf.python_io.TFRecordWriter(tfr_file)\n",
    "t1 = time.time()\n",
    "t0 = time.time()\n",
    "\n",
    "cnt = 0\n",
    "for idx in test_index:\n",
    "    img = img_list[idx]\n",
    "    if (cnt + 1) % 500 == 0:\n",
    "        print(cnt + 1, \" finished\", time.time() - t1)\n",
    "        t1 = time.time()\n",
    "    cnt += 1\n",
    "    cur_img = cv2.imread(os.path.join(image_dir, img))\n",
    "    height, width, _ = cur_img .shape\n",
    "    hands = []\n",
    "    if img_name[idx] + \"_R\" in content:\n",
    "        hands.append((content[img_name[idx] + \"_R\"], \"_R\"))\n",
    "    if img_name[idx] + \"_L\" in content:\n",
    "        hands.append((content[img_name[idx] + \"_L\"], \"_L\"))\n",
    "    \n",
    "    for line, direction in hands:\n",
    "        joints_x = [float(i[0]) for i in line] \n",
    "        joints_y = [float(i[1]) for i in line] \n",
    "        bbox = record_boundary(idx, direction, FLAGS.padding, height, width)\n",
    "        cur_img_new = cur_img[bbox[1]:bbox[3],bbox[0]:bbox[2],\n",
    "          :]\n",
    "        joints_x = np.array(joints_x) - bbox[0] #[x - bbox[0] for x in joints_x]\n",
    "        joints_y = np.array(joints_y) - bbox[1] #[x - bbox[1] for x in joints_y]\n",
    "        \n",
    "        #output_image = np.ones(shape=(box_size, box_size, 3)) * 128\n",
    "        output_heatmaps = np.zeros((FLAGS.box_size, FLAGS.box_size, FLAGS.total_joints))\n",
    "        scale = FLAGS.box_size / (cur_img_new.shape[1] * 1.0)\n",
    "        joints_x *= scale #list(map(lambda x: x * scale, joints_x))\n",
    "        joints_y *= scale #list(map(lambda x: x * scale, joints_y))\n",
    "        \n",
    "        output_image = cv2.resize(cur_img_new, (0, 0), fx=scale, fy=scale, interpolation=cv2.INTER_LANCZOS4)\n",
    "        \n",
    "        for i in range(FLAGS.total_joints):\n",
    "            output_heatmaps[:, :, i] = dt.make_2d_gaussian_map(FLAGS.box_size, gaussian_radius,\n",
    "                                                     [joints_x[i], joints_y[i]])\n",
    "        \n",
    "        output_coords = np.zeros(FLAGS.total_joints * 2)\n",
    "        output_coords[::2] = joints_x\n",
    "        output_coords[1::2] = joints_y\n",
    "        \n",
    "        single_sample = tf.train.Example(features=tf.train.Features(feature={\n",
    "            'image': tf.train.Feature(bytes_list=tf.train.BytesList(value=[output_image.astype(np.uint8).tostring()])),\n",
    "            'joint': tf.train.Feature(float_list=tf.train.FloatList(value=output_coords.tolist()))\n",
    "        }))\n",
    "        writer.write(single_sample.SerializeToString())\n",
    "\n",
    "\n",
    "        if (cnt + 1) % 10 == 0: #illumination\n",
    "            #print(\"illu\", cnt)\n",
    "            if ((cnt + 1) // 10) % 2 == 0: # even\n",
    "                res = np.uint8(np.clip((0.2 * output_image + 100), 0, 255))\n",
    "            else: # odd\n",
    "                res = np.uint8(np.clip((0.25 * output_image + 10), 0, 255))\n",
    "            single_sample = tf.train.Example(features=tf.train.Features(feature={\n",
    "                'image': tf.train.Feature(bytes_list=tf.train.BytesList(value=[res.astype(np.uint8).tostring()])),\n",
    "                'joint': tf.train.Feature(float_list=tf.train.FloatList(value=output_coords.tolist()))\n",
    "            }))\n",
    "            writer.write(single_sample.SerializeToString())     \n",
    "        if (cnt + 2) %  10 == 0: # rotation\n",
    "            \n",
    "            #print(\"rotate\", cnt)\n",
    "            if ((cnt + 2) // 10) % 2 == 0: # clockwise\n",
    "                res = np.rot90(output_image, 3)\n",
    "                output_coords[::2] = FLAGS.box_size - joints_y\n",
    "                output_coords[1::2] = joints_x\n",
    "            else: # counter-clockwise\n",
    "                res = np.rot90(output_image)\n",
    "                output_coords[::2] = joints_y\n",
    "                output_coords[1::2] = FLAGS.box_size - joints_x      \n",
    "            single_sample = tf.train.Example(features=tf.train.Features(feature={\n",
    "                'image': tf.train.Feature(bytes_list=tf.train.BytesList(value=[res.astype(np.uint8).tostring()])),\n",
    "                'joint': tf.train.Feature(float_list=tf.train.FloatList(value=output_coords.tolist()))\n",
    "            }))\n",
    "            writer.write(single_sample.SerializeToString())     \n",
    "        if (cnt + 3) % 20 == 0: # mirro\n",
    "            res = cv2.flip(output_image, 1)\n",
    "            output_coords[::2] = FLAGS.box_size - joints_x\n",
    "            output_coords[1::2] = joints_y\n",
    "            single_sample = tf.train.Example(features=tf.train.Features(feature={\n",
    "                'image': tf.train.Feature(bytes_list=tf.train.BytesList(value=[res.astype(np.uint8).tostring()])),\n",
    "                'joint': tf.train.Feature(float_list=tf.train.FloatList(value=output_coords.tolist()))\n",
    "            }))\n",
    "            writer.write(single_sample.SerializeToString())     \n",
    "            \n",
    "print(\"Test records have been generated\", time.time() - t0)\n",
    "writer.close()"
   ]
  },
  {
   "cell_type": "code",
   "execution_count": 11,
   "metadata": {},
   "outputs": [],
   "source": [
    "#training tfrecord generator\n",
    "tfr_file = 'train.tfrecords'\n",
    "writer = tf.python_io.TFRecordWriter(tfr_file)\n",
    "t1 = time.time()\n",
    "t0 = time.time()\n",
    "\n",
    "cnt = 0\n",
    "for idx in test_index:\n",
    "    img = img_list[idx]\n",
    "    if (cnt + 1) % 500 == 0:\n",
    "        print(cnt + 1, \" finished\", time.time() - t1)\n",
    "        t1 = time.time()\n",
    "    cnt += 1\n",
    "    cur_img = cv2.imread(os.path.join(image_dir, img))\n",
    "    height, width, _ = cur_img .shape\n",
    "    hands = []\n",
    "    if img_name[idx] + \"_R\" in content:\n",
    "        hands.append((content[img_name[idx] + \"_R\"], \"_R\"))\n",
    "    if img_name[idx] + \"_L\" in content:\n",
    "        hands.append((content[img_name[idx] + \"_L\"], \"_L\"))\n",
    "    \n",
    "    for line, direction in hands:\n",
    "        joints_x = [float(i[0]) for i in line] \n",
    "        joints_y = [float(i[1]) for i in line] \n",
    "        bbox = record_boundary(idx, direction, FLAGS.padding, height, width)\n",
    "        cur_img_new = cur_img[bbox[1]:bbox[3],bbox[0]:bbox[2],\n",
    "          :]\n",
    "        joints_x = np.array(joints_x) - bbox[0] #[x - bbox[0] for x in joints_x]\n",
    "        joints_y = np.array(joints_y) - bbox[1] #[x - bbox[1] for x in joints_y]\n",
    "        \n",
    "        #output_image = np.ones(shape=(box_size, box_size, 3)) * 128\n",
    "        output_heatmaps = np.zeros((FLAGS.box_size, FLAGS.box_size, FLAGS.total_joints))\n",
    "        scale = FLAGS.box_size / (cur_img_new.shape[1] * 1.0)\n",
    "        joints_x *= scale #list(map(lambda x: x * scale, joints_x))\n",
    "        joints_y *= scale #list(map(lambda x: x * scale, joints_y))\n",
    "        \n",
    "        output_image = cv2.resize(cur_img_new, (0, 0), fx=scale, fy=scale, interpolation=cv2.INTER_LANCZOS4)\n",
    "        \n",
    "        for i in range(FLAGS.total_joints):\n",
    "            output_heatmaps[:, :, i] = dt.make_2d_gaussian_map(FLAGS.box_size, gaussian_radius,\n",
    "                                                     [joints_x[i], joints_y[i]])\n",
    "        \n",
    "        output_coords = np.zeros(FLAGS.total_joints * 2)\n",
    "        output_coords[::2] = joints_x\n",
    "        output_coords[1::2] = joints_y\n",
    "        #output_coords = output_coords.tolist()\n",
    "        \n",
    "        #output_background_map = np.ones((box_size, box_size)) - np.amax(output_heatmaps, axis=2)\n",
    "        #output_heatmaps_with_bg = np.concatenate((output_heatmaps, output_background_map.reshape((box_size, box_size, 1))), axis=2)\n",
    "        #output_image_raw = output_image.astype(np.uint8).tostring()\n",
    "        #print(output_image.shape)\n",
    "        \n",
    "        single_sample = tf.train.Example(features=tf.train.Features(feature={\n",
    "            'image': tf.train.Feature(bytes_list=tf.train.BytesList(value=[output_image.astype(np.uint8).tostring()])),\n",
    "            'joint': tf.train.Feature(float_list=tf.train.FloatList(value=output_coords.tolist()))\n",
    "        }))\n",
    "        writer.write(single_sample.SerializeToString())\n",
    "\n",
    "\n",
    "        if (cnt + 1) % 10 == 0: #illumination\n",
    "            #print(\"illu\", cnt)\n",
    "            if ((cnt + 1) // 10) % 2 == 0: # even\n",
    "                res = np.uint8(np.clip((0.2 * output_image + 100), 0, 255))\n",
    "            else: # odd\n",
    "                res = np.uint8(np.clip((0.25 * output_image + 10), 0, 255))\n",
    "            single_sample = tf.train.Example(features=tf.train.Features(feature={\n",
    "                'image': tf.train.Feature(bytes_list=tf.train.BytesList(value=[res.astype(np.uint8).tostring()])),\n",
    "                'joint': tf.train.Feature(float_list=tf.train.FloatList(value=output_coords.tolist()))\n",
    "            }))\n",
    "            writer.write(single_sample.SerializeToString())     \n",
    "        if (cnt + 2) %  10 == 0: # rotation\n",
    "            \n",
    "            #print(\"rotate\", cnt)\n",
    "            if ((cnt + 2) // 10) % 2 == 0: # clockwise\n",
    "                res = np.rot90(output_image, 3)\n",
    "                output_coords[::2] = FLAGS.box_size - joints_y\n",
    "                output_coords[1::2] = joints_x\n",
    "            else: # counter-clockwise\n",
    "                res = np.rot90(output_image)\n",
    "                output_coords[::2] = joints_y\n",
    "                output_coords[1::2] = FLAGS.box_size - joints_x      \n",
    "            single_sample = tf.train.Example(features=tf.train.Features(feature={\n",
    "                'image': tf.train.Feature(bytes_list=tf.train.BytesList(value=[res.astype(np.uint8).tostring()])),\n",
    "                'joint': tf.train.Feature(float_list=tf.train.FloatList(value=output_coords.tolist()))\n",
    "            }))\n",
    "            writer.write(single_sample.SerializeToString())     \n",
    "        if (cnt + 3) % 20 == 0: # mirro\n",
    "            res = cv2.flip(output_image, 1)\n",
    "            output_coords[::2] = FLAGS.box_size - joints_x\n",
    "            output_coords[1::2] = joints_y\n",
    "            single_sample = tf.train.Example(features=tf.train.Features(feature={\n",
    "                'image': tf.train.Feature(bytes_list=tf.train.BytesList(value=[res.astype(np.uint8).tostring()])),\n",
    "                'joint': tf.train.Feature(float_list=tf.train.FloatList(value=output_coords.tolist()))\n",
    "            }))\n",
    "            writer.write(single_sample.SerializeToString())\n",
    "            \n",
    "print(\"Training records have been generated\", time.time() - t0)\n",
    "writer.close()"
   ]
  },
  {
   "cell_type": "code",
   "execution_count": null,
   "metadata": {},
   "outputs": [],
   "source": []
  },
  {
   "cell_type": "code",
   "execution_count": 7,
   "metadata": {},
   "outputs": [],
   "source": []
  },
  {
   "cell_type": "code",
   "execution_count": null,
   "metadata": {},
   "outputs": [],
   "source": []
  },
  {
   "cell_type": "code",
   "execution_count": null,
   "metadata": {},
   "outputs": [],
   "source": []
  }
 ],
 "metadata": {
  "kernelspec": {
   "display_name": "Python 3",
   "language": "python",
   "name": "python3"
  },
  "language_info": {
   "codemirror_mode": {
    "name": "ipython",
    "version": 3
   },
   "file_extension": ".py",
   "mimetype": "text/x-python",
   "name": "python",
   "nbconvert_exporter": "python",
   "pygments_lexer": "ipython3",
   "version": "3.6.4"
  }
 },
 "nbformat": 4,
 "nbformat_minor": 2
}
